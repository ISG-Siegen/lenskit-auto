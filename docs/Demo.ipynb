{
 "cells": [
  {
   "cell_type": "markdown",
   "metadata": {
    "pycharm": {
     "name": "#%% md\n"
    }
   },
   "source": [
    "# Demo\n",
    "In the demo, we showcase the easy process of selecting the best-suited model in different scenarios with LensKit-Auto.\n",
    "A LensKit-Auto developer simply has to call a single function call to select, tune and ensemble LensKit algorithms.\n",
    "\n",
    "The demo is devided into two parts:\n",
    "\n",
    "1. In the first part we are going to select and tune a Top-N recommender out of all of LensKit's\n",
    "algorithms on the Movielens 100k dataset.\n",
    "3. In the second part we are going to tune and ensemble the BiasedMatrixFactorization predictor for the Movielens 100k\n",
    "dataset."
   ]
  },
  {
   "cell_type": "markdown",
   "metadata": {
    "pycharm": {
     "name": "#%% md\n"
    }
   },
   "source": [
    "## Loading Data\n",
    "First, we store the Movielens 100k dataset as a pandas dataframe."
   ]
  },
  {
   "cell_type": "code",
   "execution_count": 2,
   "metadata": {
    "pycharm": {
     "is_executing": true,
     "name": "#%%\n"
    }
   },
   "outputs": [
    {
     "data": {
      "text/html": [
       "<div>\n",
       "<style scoped>\n",
       "    .dataframe tbody tr th:only-of-type {\n",
       "        vertical-align: middle;\n",
       "    }\n",
       "\n",
       "    .dataframe tbody tr th {\n",
       "        vertical-align: top;\n",
       "    }\n",
       "\n",
       "    .dataframe thead th {\n",
       "        text-align: right;\n",
       "    }\n",
       "</style>\n",
       "<table border=\"1\" class=\"dataframe\">\n",
       "  <thead>\n",
       "    <tr style=\"text-align: right;\">\n",
       "      <th></th>\n",
       "      <th>user</th>\n",
       "      <th>item</th>\n",
       "      <th>rating</th>\n",
       "      <th>timestamp</th>\n",
       "    </tr>\n",
       "  </thead>\n",
       "  <tbody>\n",
       "    <tr>\n",
       "      <th>0</th>\n",
       "      <td>196</td>\n",
       "      <td>242</td>\n",
       "      <td>3.0</td>\n",
       "      <td>881250949</td>\n",
       "    </tr>\n",
       "    <tr>\n",
       "      <th>1</th>\n",
       "      <td>186</td>\n",
       "      <td>302</td>\n",
       "      <td>3.0</td>\n",
       "      <td>891717742</td>\n",
       "    </tr>\n",
       "    <tr>\n",
       "      <th>2</th>\n",
       "      <td>22</td>\n",
       "      <td>377</td>\n",
       "      <td>1.0</td>\n",
       "      <td>878887116</td>\n",
       "    </tr>\n",
       "    <tr>\n",
       "      <th>3</th>\n",
       "      <td>244</td>\n",
       "      <td>51</td>\n",
       "      <td>2.0</td>\n",
       "      <td>880606923</td>\n",
       "    </tr>\n",
       "    <tr>\n",
       "      <th>4</th>\n",
       "      <td>166</td>\n",
       "      <td>346</td>\n",
       "      <td>1.0</td>\n",
       "      <td>886397596</td>\n",
       "    </tr>\n",
       "  </tbody>\n",
       "</table>\n",
       "</div>"
      ],
      "text/plain": [
       "   user  item  rating  timestamp\n",
       "0   196   242     3.0  881250949\n",
       "1   186   302     3.0  891717742\n",
       "2    22   377     1.0  878887116\n",
       "3   244    51     2.0  880606923\n",
       "4   166   346     1.0  886397596"
      ]
     },
     "execution_count": 2,
     "metadata": {},
     "output_type": "execute_result"
    }
   ],
   "source": [
    "from lenskit.datasets import ML100K\n",
    "# read in the Movielens 100k dataset as a pandas dataframe\n",
    "ml100k = ML100K('../data/ml-100k')\n",
    "ratings = ml100k.ratings\n",
    "ratings.head()"
   ]
  },
  {
   "cell_type": "markdown",
   "metadata": {
    "pycharm": {
     "name": "#%% md\n"
    }
   },
   "source": [
    "## Splitting Data\n",
    "For this demo we use a row-based holdout split. 25% of the dataset rows are  contained by the test set and 75% of the\n",
    "rows are contained by the\n",
    "train set. A holdout split is not ideal and we would rather use a cross-fold split in an experiment. But for the sake of\n",
    "this demo, a holdout split keeps the code simple and we do not have to calculate the mean error over all folds."
   ]
  },
  {
   "cell_type": "code",
   "execution_count": 3,
   "metadata": {
    "pycharm": {
     "name": "#%%\n"
    }
   },
   "outputs": [],
   "source": [
    "# perform holdout validation split\n",
    "test = ratings.sample(frac=0.25, random_state=42)\n",
    "train = ratings.drop(test.index)"
   ]
  },
  {
   "cell_type": "markdown",
   "metadata": {
    "pycharm": {
     "name": "#%% md\n"
    }
   },
   "source": [
    "## 1. Select and Tune a Recommender Model From LensKit\n",
    "In the first part of our exeriment, we want to get the best performing recommender model on the Movielens 100k\n",
    "dataset. This model should be selected from all LensKit's algorihtms and tuned based on the *NDCG@10* metric .\n",
    "\n",
    "A LensKit developer simply calls the *get_best_recommender_model()* function to select and optimize a LensKit\n",
    "model.\n",
    "\n",
    "Note: To keep the demo easily executable, we reduced the search time from one hour to two minutes. Two minutes are\n",
    "enough to demonstrate how LensKit-Auto works. In a real use case, we provide more time for the\n",
    "optimization process."
   ]
  },
  {
   "cell_type": "code",
   "execution_count": 4,
   "metadata": {
    "pycharm": {
     "name": "#%%\n"
    }
   },
   "outputs": [
    {
     "name": "stderr",
     "output_type": "stream",
     "text": [
      "2023-02-22 09:10:41,441 INFO ---Starting LensKit-Auto---\n",
      "2023-02-22 09:10:41,442 INFO \t optimization_time: \t\t 120 seconds\n",
      "2023-02-22 09:10:41,442 INFO \t num_evaluations: \t\t\t 500\n",
      "2023-02-22 09:10:41,442 INFO \t optimization_metric: \t\t ndcg@10\n",
      "2023-02-22 09:10:41,442 INFO \t optimization_strategie: \t bayesian\n",
      "2023-02-22 09:10:41,443 INFO --Start Preprocessing--\n",
      "2023-02-22 09:10:41,445 INFO --End Preprocessing--\n",
      "2023-02-22 09:10:41,445 INFO --Start Bayesian Optimization--\n",
      "OMP: Info #276: omp_set_nested routine deprecated, please use omp_set_max_active_levels instead.\n",
      "Numba is using threading layer omp - consider TBB\n",
      "BLAS using multiple threads - can cause oversubscription\n",
      "found 2 potential runtime problems - see https://boi.st/lkpy-perf\n",
      "2023-02-22 09:10:52,835 INFO Run ID: 1 | ItemItem | ndcg@10: 0.17453138349348526\n",
      "2023-02-22 09:10:56,469 INFO Run ID: 2 | UserUser | ndcg@10: 0.1644463000108411\n",
      "2023-02-22 09:11:18,025 INFO Run ID: 3 | FunkSVD | ndcg@10: 0.00011664492811850631\n",
      "2023-02-22 09:11:21,827 INFO Run ID: 4 | BiasedSVD | ndcg@10: 0.04715050990079625\n",
      "2023-02-22 09:11:28,736 INFO Run ID: 5 | ALSBiasedMF | ndcg@10: 0.04182150616315787\n",
      "2023-02-22 09:11:29,933 INFO Run ID: 6 | Bias | ndcg@10: 0.04589156840426328\n",
      "2023-02-22 09:11:32,253 INFO Run ID: 7 | FunkSVD | ndcg@10: 0.012443371569372778\n",
      "2023-02-22 09:11:37,465 INFO Run ID: 8 | ItemItem | ndcg@10: 0.1743543283803561\n",
      "2023-02-22 09:11:42,885 INFO Run ID: 9 | ItemItem | ndcg@10: nan\n",
      "Target Algorithm returned NaN or inf as quality. Algorithm run is treated as CRASHED, cost is set to 2147483647.0 for quality scenarios. (Change value through \"cost_for_crash\"-option.)\n",
      "2023-02-22 09:11:48,673 INFO Run ID: 10 | ItemItem | ndcg@10: 0.17132813190244398\n",
      "2023-02-22 09:11:54,037 INFO Run ID: 11 | ItemItem | ndcg@10: 0.17453138349348526\n",
      "2023-02-22 09:11:59,507 INFO Run ID: 12 | ItemItem | ndcg@10: 0.17453138349348526\n",
      "2023-02-22 09:12:04,935 INFO Run ID: 13 | ItemItem | ndcg@10: 0.17453138349348526\n",
      "2023-02-22 09:12:10,385 INFO Run ID: 14 | ItemItem | ndcg@10: 0.17437296326506613\n",
      "2023-02-22 09:12:14,329 INFO Run ID: 15 | BiasedSVD | ndcg@10: 0.0005927618599612518\n",
      "2023-02-22 09:12:19,833 INFO Run ID: 16 | ItemItem | ndcg@10: 0.17453138349348526\n",
      "2023-02-22 09:12:21,384 INFO Run ID: 17 | Bias | ndcg@10: 0.042598050044249776\n",
      "2023-02-22 09:12:26,883 INFO Run ID: 18 | ItemItem | ndcg@10: 0.17551463536785386\n",
      "2023-02-22 09:12:31,520 INFO Run ID: 19 | ItemItem | ndcg@10: 0.17499128397177383\n",
      "2023-02-22 09:12:34,813 INFO Run ID: 20 | UserUser | ndcg@10: nan\n",
      "Target Algorithm returned NaN or inf as quality. Algorithm run is treated as CRASHED, cost is set to 2147483647.0 for quality scenarios. (Change value through \"cost_for_crash\"-option.)\n",
      "2023-02-22 09:12:40,488 INFO Run ID: 21 | ItemItem | ndcg@10: 0.17453138349348526\n",
      "2023-02-22 09:12:46,453 INFO Run ID: 22 | ItemItem | ndcg@10: nan\n",
      "Target Algorithm returned NaN or inf as quality. Algorithm run is treated as CRASHED, cost is set to 2147483647.0 for quality scenarios. (Change value through \"cost_for_crash\"-option.)\n",
      "2023-02-22 09:12:46,461 INFO --End Bayesian Optimization--\n",
      "2023-02-22 09:12:46,461 INFO --Start Postrprocessing--\n",
      "2023-02-22 09:12:46,462 INFO --Best Model--\n",
      "2023-02-22 09:12:46,462 INFO {'algo': 'ItemItem', 'ItemItem:min_nbrs': 10, 'ItemItem:min_sim': 0.0016910967954253439, 'ItemItem:nnbrs': 9043}\n",
      "2023-02-22 09:12:46,462 INFO ---LensKit-Auto finished---\n"
     ]
    }
   ],
   "source": [
    "from lkauto.lkauto import get_best_recommender_model\n",
    "\n",
    "# call the get_best_recommender_model to automatically select and tune the best performing LensKit algorithm\n",
    "optimized_model, configuration  = get_best_recommender_model(train=train, time_limit_in_sec=120)"
   ]
  },
  {
   "cell_type": "markdown",
   "metadata": {
    "pycharm": {
     "name": "#%% md\n"
    }
   },
   "source": [
    "After this step, the LensKit developer uses the optimized model as any other LensKit model.\n",
    "The following lines are copied from the *Running the Evaluation* part of the\n",
    "[LensKit Getting Started Chapter](https://lkpy.readthedocs.io/en/stable/GettingStarted.html)"
   ]
  },
  {
   "cell_type": "markdown",
   "metadata": {
    "pycharm": {
     "name": "#%% md\n"
    }
   },
   "source": [
    "First, we initialize a LensKit Recommender with our optimized model. Then, we fit and predict on the\n",
    "train - and test set."
   ]
  },
  {
   "cell_type": "code",
   "execution_count": 5,
   "metadata": {
    "pycharm": {
     "name": "#%%\n"
    }
   },
   "outputs": [],
   "source": [
    "from lenskit import batch, topn, util\n",
    "from lenskit.algorithms import Recommender\n",
    "\n",
    "# initialize LensKit Recommender object\n",
    "fittable = Recommender.adapt(optimized_model)\n",
    "# fit the optimized model\n",
    "fittable.fit(train)\n",
    "users = test.user.unique()\n",
    "# now we run the recommender\n",
    "recs = batch.recommend(fittable, users, 10)"
   ]
  },
  {
   "cell_type": "markdown",
   "metadata": {
    "pycharm": {
     "name": "#%% md\n"
    }
   },
   "source": [
    "In the last step of the evaluation, we use the LensKit Top-N RecListAnalysis object to compute the *NDCG@10* metric\n",
    "for every user."
   ]
  },
  {
   "cell_type": "code",
   "execution_count": 6,
   "metadata": {
    "pycharm": {
     "name": "#%%\n"
    }
   },
   "outputs": [
    {
     "data": {
      "text/html": [
       "<div>\n",
       "<style scoped>\n",
       "    .dataframe tbody tr th:only-of-type {\n",
       "        vertical-align: middle;\n",
       "    }\n",
       "\n",
       "    .dataframe tbody tr th {\n",
       "        vertical-align: top;\n",
       "    }\n",
       "\n",
       "    .dataframe thead th {\n",
       "        text-align: right;\n",
       "    }\n",
       "</style>\n",
       "<table border=\"1\" class=\"dataframe\">\n",
       "  <thead>\n",
       "    <tr style=\"text-align: right;\">\n",
       "      <th></th>\n",
       "      <th>nrecs</th>\n",
       "      <th>ndcg</th>\n",
       "    </tr>\n",
       "    <tr>\n",
       "      <th>user</th>\n",
       "      <th></th>\n",
       "      <th></th>\n",
       "    </tr>\n",
       "  </thead>\n",
       "  <tbody>\n",
       "    <tr>\n",
       "      <th>877</th>\n",
       "      <td>10</td>\n",
       "      <td>0.147429</td>\n",
       "    </tr>\n",
       "    <tr>\n",
       "      <th>815</th>\n",
       "      <td>10</td>\n",
       "      <td>0.117370</td>\n",
       "    </tr>\n",
       "    <tr>\n",
       "      <th>94</th>\n",
       "      <td>10</td>\n",
       "      <td>0.220307</td>\n",
       "    </tr>\n",
       "    <tr>\n",
       "      <th>416</th>\n",
       "      <td>10</td>\n",
       "      <td>0.238576</td>\n",
       "    </tr>\n",
       "    <tr>\n",
       "      <th>500</th>\n",
       "      <td>10</td>\n",
       "      <td>0.177129</td>\n",
       "    </tr>\n",
       "  </tbody>\n",
       "</table>\n",
       "</div>"
      ],
      "text/plain": [
       "      nrecs      ndcg\n",
       "user                 \n",
       "877      10  0.147429\n",
       "815      10  0.117370\n",
       "94       10  0.220307\n",
       "416      10  0.238576\n",
       "500      10  0.177129"
      ]
     },
     "execution_count": 6,
     "metadata": {},
     "output_type": "execute_result"
    }
   ],
   "source": [
    "# initialize RecSysAnalysis object for computing the NDCG@10 value\n",
    "rla = topn.RecListAnalysis()\n",
    "# add ndcg metric to the RecSysAnalysis tool\n",
    "rla.add_metric(topn.ndcg)\n",
    "# compute ndcg@10 values\n",
    "results = rla.compute(recs, test)\n",
    "# show the ndcg scores per user\n",
    "results.head()"
   ]
  },
  {
   "cell_type": "markdown",
   "metadata": {
    "pycharm": {
     "name": "#%% md\n"
    }
   },
   "source": [
    "## 2. Tune and Ensemble a Predictor Model From LensKit\n",
    "In the second part of this demo, we are going to tune and ensemble the *BiasedMatrixFactorization* algorithm with\n",
    "LensKit-Auto. In comparison to the first part of the demo, we don't want to select an algorithm out of all LensKit\n",
    "algorithms but tune a single predictor algorithm on the *RMSE* metric. Furthermore, we want to ensemble the best performing models to gain a\n",
    "performance boost.\n",
    "\n",
    "In this part of the demo we, need to create a configuration space that only contains the *BiasedMatrixFactorization*\n",
    "algorithm.\n",
    "\n",
    "Note: To keep the demo easily executable, we reduced the search time from one hour to two minutes. Two minutes are\n",
    "enough to demonstrate how LensKit-Auto works. In a real use case, we provide more time for the\n",
    "optimization process."
   ]
  },
  {
   "cell_type": "code",
   "execution_count": 4,
   "metadata": {
    "pycharm": {
     "name": "#%%\n"
    }
   },
   "outputs": [],
   "source": [
    "from ConfigSpace import Constant\n",
    "from lkauto.algorithms.als import BiasedMF\n",
    "\n",
    "# initialize BiasedMF ConfigurationSpace\n",
    "cs = BiasedMF.get_default_configspace()\n",
    "# declare, that the BiasedMF algorithm is the only algorithm contained in the configuration space\n",
    "cs.add_hyperparameters([Constant(\"algo\", \"ALSBiasedMF\")])\n",
    "# set a random seed for reproducible results\n",
    "cs.seed(42)"
   ]
  },
  {
   "cell_type": "markdown",
   "metadata": {
    "pycharm": {
     "name": "#%% md\n"
    }
   },
   "source": [
    "After we created the configuration space for the *BiasedMatrixFactorization* algorithm. We call the\n",
    "*get_best_prediction_model* to automatically tune and ensemble BiasedMatrixFactorization models."
   ]
  },
  {
   "cell_type": "code",
   "execution_count": 7,
   "metadata": {
    "pycharm": {
     "is_executing": true,
     "name": "#%%\n"
    }
   },
   "outputs": [
    {
     "name": "stderr",
     "output_type": "stream",
     "text": [
      "2023-02-22 09:02:05,537 INFO ---Starting LensKit-Auto---\n",
      "2023-02-22 09:02:05,539 INFO \t optimization_time: \t\t 120 seconds\n",
      "2023-02-22 09:02:05,541 INFO \t num_evaluations: \t\t\t 500\n",
      "2023-02-22 09:02:05,541 INFO \t optimization_metric: \t\t rmse\n",
      "2023-02-22 09:02:05,542 INFO \t optimization_strategie: \t bayesian\n",
      "2023-02-22 09:02:05,543 INFO --Start Preprocessing--\n",
      "2023-02-22 09:02:05,550 INFO --End Preprocessing--\n",
      "2023-02-22 09:02:05,551 INFO --Start Bayesian Optimization--\n",
      "OMP: Info #276: omp_set_nested routine deprecated, please use omp_set_max_active_levels instead.\n",
      "Numba is using threading layer omp - consider TBB\n",
      "BLAS using multiple threads - can cause oversubscription\n",
      "found 2 potential runtime problems - see https://boi.st/lkpy-perf\n",
      "2023-02-22 09:02:12,521 INFO Run ID: 1 | ALSBiasedMF | rmse: 0.9393121280796051\n",
      "2023-02-22 09:02:19,757 INFO Run ID: 2 | ALSBiasedMF | rmse: 0.9631079867170781\n",
      "2023-02-22 09:02:24,235 INFO Run ID: 3 | ALSBiasedMF | rmse: 0.951654284405548\n",
      "2023-02-22 09:02:25,692 INFO Run ID: 4 | ALSBiasedMF | rmse: 0.9666164944266947\n",
      "2023-02-22 09:02:28,658 INFO Run ID: 5 | ALSBiasedMF | rmse: 0.9394765406698431\n",
      "2023-02-22 09:02:40,558 INFO Run ID: 6 | ALSBiasedMF | rmse: 0.9482395058989359\n",
      "2023-02-22 09:02:44,966 INFO Run ID: 7 | ALSBiasedMF | rmse: 0.9393212729519723\n",
      "2023-02-22 09:02:48,386 INFO Run ID: 8 | ALSBiasedMF | rmse: 0.9393622572445268\n",
      "2023-02-22 09:02:49,495 INFO Run ID: 9 | ALSBiasedMF | rmse: 0.9695151963076567\n",
      "2023-02-22 09:02:51,329 INFO Run ID: 10 | ALSBiasedMF | rmse: 0.9605555908108012\n",
      "2023-02-22 09:02:57,446 INFO Run ID: 11 | ALSBiasedMF | rmse: 0.939296574209202\n",
      "2023-02-22 09:03:00,865 INFO Run ID: 12 | ALSBiasedMF | rmse: 0.9477068515411664\n",
      "2023-02-22 09:03:08,486 INFO Run ID: 13 | ALSBiasedMF | rmse: 0.9393445899560989\n",
      "2023-02-22 09:03:10,267 INFO Run ID: 14 | ALSBiasedMF | rmse: 0.9538055651010438\n",
      "2023-02-22 09:03:11,675 INFO Run ID: 15 | ALSBiasedMF | rmse: 1.0025167074259034\n",
      "2023-02-22 09:03:16,042 INFO Run ID: 16 | ALSBiasedMF | rmse: 0.939324998919378\n",
      "2023-02-22 09:03:20,541 INFO Run ID: 17 | ALSBiasedMF | rmse: 0.9393076995768875\n",
      "2023-02-22 09:03:24,700 INFO Run ID: 18 | ALSBiasedMF | rmse: 0.9480222221845809\n",
      "2023-02-22 09:03:29,203 INFO Run ID: 19 | ALSBiasedMF | rmse: 0.9393125578143455\n",
      "2023-02-22 09:03:33,582 INFO Run ID: 20 | ALSBiasedMF | rmse: 0.9393075106088427\n",
      "2023-02-22 09:03:37,978 INFO Run ID: 21 | ALSBiasedMF | rmse: 0.9410654295477805\n",
      "2023-02-22 09:03:42,375 INFO Run ID: 22 | ALSBiasedMF | rmse: 0.9392939607845919\n",
      "2023-02-22 09:03:46,197 INFO Run ID: 23 | ALSBiasedMF | rmse: 0.9393204026298504\n",
      "2023-02-22 09:03:50,599 INFO Run ID: 24 | ALSBiasedMF | rmse: 0.9393363169889227\n",
      "2023-02-22 09:03:56,905 INFO Run ID: 25 | ALSBiasedMF | rmse: 0.9392963259189987\n",
      "2023-02-22 09:03:58,425 INFO Run ID: 26 | ALSBiasedMF | rmse: 1.0525937791525835\n",
      "2023-02-22 09:03:59,903 INFO Run ID: 27 | ALSBiasedMF | rmse: 1.00205812315906\n",
      "2023-02-22 09:04:04,284 INFO Run ID: 28 | ALSBiasedMF | rmse: 0.9393266925132977\n",
      "2023-02-22 09:04:08,701 INFO Run ID: 29 | ALSBiasedMF | rmse: 0.9392937216538252\n",
      "2023-02-22 09:04:08,706 INFO --End Bayesian Optimization--\n",
      "2023-02-22 09:04:08,712 INFO --Start Postrprocessing--\n",
      "2023-02-22 09:04:09,328 INFO --Best Model--\n",
      "2023-02-22 09:04:09,328 INFO GES Ensemble Model\n",
      "2023-02-22 09:04:09,328 INFO ---LensKit-Auto finished---\n"
     ]
    }
   ],
   "source": [
    "from lkauto.lkauto import get_best_prediction_model\n",
    "# Provide the BiasedMF ConfigurationSpace to the get_best_recommender_model function.\n",
    "optimized_model, configuration = get_best_prediction_model(train=train, cs=cs, time_limit_in_sec=120)"
   ]
  },
  {
   "cell_type": "markdown",
   "metadata": {
    "pycharm": {
     "name": "#%% md\n"
    }
   },
   "source": [
    "After we have the optimized and ensembled *BiasedMatrixFactorization* models. We can use the ensemble like any other LensKit\n",
    "predictor model to get predictions."
   ]
  },
  {
   "cell_type": "code",
   "execution_count": 9,
   "metadata": {
    "pycharm": {
     "name": "#%%\n"
    }
   },
   "outputs": [],
   "source": [
    "# fit the optimized model\n",
    "optimized_model.fit(train)\n",
    "# predict using the optimized model returned by LensKit-auto\n",
    "preds = optimized_model.predict(test)"
   ]
  },
  {
   "cell_type": "markdown",
   "metadata": {
    "pycharm": {
     "name": "#%% md\n"
    }
   },
   "source": [
    "In the last step of this demo, we calculate the *RMSE* value for our optimized model."
   ]
  },
  {
   "cell_type": "code",
   "execution_count": 10,
   "metadata": {
    "pycharm": {
     "name": "#%%\n"
    }
   },
   "outputs": [
    {
     "name": "stdout",
     "output_type": "stream",
     "text": [
      "RMSE: 0.9077549336005521\n"
     ]
    }
   ],
   "source": [
    "from lenskit.metrics.predict import rmse\n",
    "\n",
    "# print the RMSE value\n",
    "print(\"RMSE: {}\".format(rmse(predictions=preds, truth=test['rating'])))\n"
   ]
  }
 ],
 "metadata": {
  "kernelspec": {
   "display_name": "Python 3 (ipykernel)",
   "language": "python",
   "name": "python3"
  },
  "language_info": {
   "codemirror_mode": {
    "name": "ipython",
    "version": 3
   },
   "file_extension": ".py",
   "mimetype": "text/x-python",
   "name": "python",
   "nbconvert_exporter": "python",
   "pygments_lexer": "ipython3",
   "version": "3.9.12"
  }
 },
 "nbformat": 4,
 "nbformat_minor": 1
}